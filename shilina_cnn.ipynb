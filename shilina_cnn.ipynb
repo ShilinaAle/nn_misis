{
 "cells": [
  {
   "cell_type": "code",
   "execution_count": 2,
   "metadata": {},
   "outputs": [],
   "source": [
    "from __future__ import print_function\n",
    "import numpy as np\n",
    "import matplotlib.pyplot as plt\n",
    "%matplotlib inline\n",
    "import warnings\n",
    "warnings.filterwarnings('ignore')\n",
    "\n",
    "import keras\n",
    "from keras.models import Sequential\n",
    "from keras.layers import Dense, Conv2D, MaxPooling2D, Dropout, Flatten"
   ]
  },
  {
   "cell_type": "code",
   "execution_count": 3,
   "metadata": {},
   "outputs": [
    {
     "name": "stdout",
     "output_type": "stream",
     "text": [
      "Downloading data from https://www.cs.toronto.edu/~kriz/cifar-10-python.tar.gz\n",
      "170500096/170498071 [==============================] - 419s 2us/step\n"
     ]
    }
   ],
   "source": [
    "from keras.datasets import cifar10\n",
    "(train_images, train_labels), (test_images, test_labels) = cifar10.load_data()"
   ]
  },
  {
   "cell_type": "code",
   "execution_count": 5,
   "metadata": {},
   "outputs": [],
   "source": [
    "from keras.utils import to_categorical"
   ]
  },
  {
   "cell_type": "code",
   "execution_count": 6,
   "metadata": {},
   "outputs": [
    {
     "name": "stdout",
     "output_type": "stream",
     "text": [
      "Training data shape :  (50000, 32, 32, 3) (50000, 1)\n",
      "Testing data shape :  (10000, 32, 32, 3) (10000, 1)\n",
      "Total number of outputs :  10\n",
      "Output classes :  [0 1 2 3 4 5 6 7 8 9]\n"
     ]
    },
    {
     "data": {
      "text/plain": [
       "Text(0.5, 1.0, 'Ground Truth : [3]')"
      ]
     },
     "execution_count": 6,
     "metadata": {},
     "output_type": "execute_result"
    },
    {
     "data": {
      "image/png": "[encoded data removed]",
      "text/plain": [
       "<Figure size 288x144 with 2 Axes>"
      ]
     },
     "metadata": {
      "needs_background": "light"
     },
     "output_type": "display_data"
    }
   ],
   "source": [
    "print('Training data shape : ', train_images.shape, train_labels.shape)\n",
    "\n",
    "print('Testing data shape : ', test_images.shape, test_labels.shape)\n",
    "\n",
    "# Find the unique numbers from the train labels\n",
    "classes = np.unique(train_labels)\n",
    "nClasses = len(classes)\n",
    "print('Total number of outputs : ', nClasses)\n",
    "print('Output classes : ', classes)\n",
    "\n",
    "plt.figure(figsize=[4,2])\n",
    "\n",
    "# Display the first image in training data\n",
    "plt.subplot(121)\n",
    "plt.imshow(train_images[0,:,:], cmap='gray')\n",
    "plt.title(\"Ground Truth : {}\".format(train_labels[0]))\n",
    "\n",
    "# Display the first image in testing data\n",
    "plt.subplot(122)\n",
    "plt.imshow(test_images[0,:,:], cmap='gray')\n",
    "plt.title(\"Ground Truth : {}\".format(test_labels[0]))"
   ]
  },
  {
   "cell_type": "code",
   "execution_count": 22,
   "metadata": {},
   "outputs": [],
   "source": [
    "nRows,nCols,nDims = train_images.shape[1:]\n",
    "train_data = train_images.reshape(train_images.shape[0], nRows, nCols, nDims)\n",
    "test_data = test_images.reshape(test_images.shape[0], nRows, nCols, nDims)\n",
    "input_shape = (nRows, nCols, nDims)\n",
    "\n",
    "# Change to float datatype\n",
    "train_data = train_data.astype('float32')\n",
    "test_data = test_data.astype('float32')\n",
    "\n",
    "# Scale the data to lie between 0 to 1\n",
    "train_data /= 255\n",
    "test_data /= 255\n",
    "\n",
    "# Change the labels from integer to categorical data\n",
    "train_labels_one_hot = to_categorical(train_labels)\n",
    "test_labels_one_hot = to_categorical(test_labels)"
   ]
  },
  {
   "cell_type": "code",
   "execution_count": 23,
   "metadata": {},
   "outputs": [
    {
     "name": "stdout",
     "output_type": "stream",
     "text": [
      "Original label 0 :  [6]\n",
      "After conversion to categorical ( one-hot ) :  [0. 0. 0. 0. 0. 0. 1. 0. 0. 0.]\n"
     ]
    }
   ],
   "source": [
    "print('Original label 0 : ', train_labels[0])\n",
    "print('After conversion to categorical ( one-hot ) : ', train_labels_one_hot[0])"
   ]
  },
  {
   "cell_type": "code",
   "execution_count": 9,
   "metadata": {},
   "outputs": [],
   "source": [
    "def createModel():\n",
    "    model = Sequential()\n",
    "    # The first two layers with 32 filters of window size 3x3\n",
    "    model.add(Conv2D(32, (3, 3), padding='same', activation='relu', input_shape=input_shape))\n",
    "    model.add(Conv2D(32, (3, 3), activation='relu'))\n",
    "    model.add(MaxPooling2D(pool_size=(2, 2)))\n",
    "    model.add(Dropout(0.25))\n",
    "\n",
    "    model.add(Conv2D(64, (3, 3), padding='same', activation='relu'))\n",
    "    model.add(Conv2D(64, (3, 3), activation='relu'))\n",
    "    model.add(MaxPooling2D(pool_size=(2, 2)))\n",
    "    model.add(Dropout(0.25))\n",
    "\n",
    "    model.add(Conv2D(64, (3, 3), padding='same', activation='relu'))\n",
    "    model.add(Conv2D(64, (3, 3), activation='relu'))\n",
    "    model.add(MaxPooling2D(pool_size=(2, 2)))\n",
    "    model.add(Dropout(0.25))\n",
    "\n",
    "    model.add(Flatten())\n",
    "    model.add(Dense(512, activation='relu'))\n",
    "    model.add(Dropout(0.5))\n",
    "    model.add(Dense(nClasses, activation='softmax'))\n",
    "    \n",
    "    return model"
   ]
  },
  {
   "cell_type": "code",
   "execution_count": 10,
   "metadata": {},
   "outputs": [
    {
     "name": "stdout",
     "output_type": "stream",
     "text": [
      "WARNING:tensorflow:From C:\\dev\\Anaconda3\\envs\\nn_misis\\lib\\site-packages\\keras\\backend\\tensorflow_backend.py:4070: The name tf.nn.max_pool is deprecated. Please use tf.nn.max_pool2d instead.\n",
      "\n",
      "Model: \"sequential_1\"\n",
      "_________________________________________________________________\n",
      "Layer (type)                 Output Shape              Param #   \n",
      "=================================================================\n",
      "conv2d_1 (Conv2D)            (None, 32, 32, 32)        896       \n",
      "_________________________________________________________________\n",
      "conv2d_2 (Conv2D)            (None, 30, 30, 32)        9248      \n",
      "_________________________________________________________________\n",
      "max_pooling2d_1 (MaxPooling2 (None, 15, 15, 32)        0         \n",
      "_________________________________________________________________\n",
      "dropout_1 (Dropout)          (None, 15, 15, 32)        0         \n",
      "_________________________________________________________________\n",
      "conv2d_3 (Conv2D)            (None, 15, 15, 64)        18496     \n",
      "_________________________________________________________________\n",
      "conv2d_4 (Conv2D)            (None, 13, 13, 64)        36928     \n",
      "_________________________________________________________________\n",
      "max_pooling2d_2 (MaxPooling2 (None, 6, 6, 64)          0         \n",
      "_________________________________________________________________\n",
      "dropout_2 (Dropout)          (None, 6, 6, 64)          0         \n",
      "_________________________________________________________________\n",
      "conv2d_5 (Conv2D)            (None, 6, 6, 64)          36928     \n",
      "_________________________________________________________________\n",
      "conv2d_6 (Conv2D)            (None, 4, 4, 64)          36928     \n",
      "_________________________________________________________________\n",
      "max_pooling2d_3 (MaxPooling2 (None, 2, 2, 64)          0         \n",
      "_________________________________________________________________\n",
      "dropout_3 (Dropout)          (None, 2, 2, 64)          0         \n",
      "_________________________________________________________________\n",
      "flatten_1 (Flatten)          (None, 256)               0         \n",
      "_________________________________________________________________\n",
      "dense_1 (Dense)              (None, 512)               131584    \n",
      "_________________________________________________________________\n",
      "dropout_4 (Dropout)          (None, 512)               0         \n",
      "_________________________________________________________________\n",
      "dense_2 (Dense)              (None, 10)                5130      \n",
      "=================================================================\n",
      "Total params: 276,138\n",
      "Trainable params: 276,138\n",
      "Non-trainable params: 0\n",
      "_________________________________________________________________\n",
      "WARNING:tensorflow:From C:\\dev\\Anaconda3\\envs\\nn_misis\\lib\\site-packages\\keras\\backend\\tensorflow_backend.py:422: The name tf.global_variables is deprecated. Please use tf.compat.v1.global_variables instead.\n",
      "\n",
      "Train on 50000 samples, validate on 10000 samples\n",
      "Epoch 1/50\n",
      "50000/50000 [==============================] - 118s 2ms/step - loss: 2.0644 - accuracy: 0.2480 - val_loss: 1.6601 - val_accuracy: 0.3907\n",
      "Epoch 2/50\n",
      "50000/50000 [==============================] - 116s 2ms/step - loss: 1.6967 - accuracy: 0.3864 - val_loss: 1.5100 - val_accuracy: 0.4404\n",
      "Epoch 3/50\n",
      "50000/50000 [==============================] - 117s 2ms/step - loss: 1.5116 - accuracy: 0.4548 - val_loss: 1.5202 - val_accuracy: 0.4424\n",
      "Epoch 4/50\n",
      "50000/50000 [==============================] - 108s 2ms/step - loss: 1.3770 - accuracy: 0.5063 - val_loss: 1.4283 - val_accuracy: 0.4896\n",
      "Epoch 5/50\n",
      "50000/50000 [==============================] - 109s 2ms/step - loss: 1.2805 - accuracy: 0.5450 - val_loss: 1.1679 - val_accuracy: 0.5832\n",
      "Epoch 6/50\n",
      "50000/50000 [==============================] - 114s 2ms/step - loss: 1.1989 - accuracy: 0.5742 - val_loss: 1.1243 - val_accuracy: 0.6061\n",
      "Epoch 7/50\n",
      "50000/50000 [==============================] - 115s 2ms/step - loss: 1.1275 - accuracy: 0.6005 - val_loss: 1.0898 - val_accuracy: 0.6122\n",
      "Epoch 8/50\n",
      "50000/50000 [==============================] - 79s 2ms/step - loss: 1.0712 - accuracy: 0.6185 - val_loss: 1.0973 - val_accuracy: 0.6099\n",
      "Epoch 9/50\n",
      "50000/50000 [==============================] - 80s 2ms/step - loss: 1.0177 - accuracy: 0.6416 - val_loss: 0.9447 - val_accuracy: 0.6647\n",
      "Epoch 10/50\n",
      "50000/50000 [==============================] - 80s 2ms/step - loss: 0.9703 - accuracy: 0.6572 - val_loss: 0.9270 - val_accuracy: 0.6710\n",
      "Epoch 11/50\n",
      "50000/50000 [==============================] - 79s 2ms/step - loss: 0.9228 - accuracy: 0.6747 - val_loss: 0.9964 - val_accuracy: 0.6584\n",
      "Epoch 12/50\n",
      "50000/50000 [==============================] - 80s 2ms/step - loss: 0.8855 - accuracy: 0.6890 - val_loss: 1.0931 - val_accuracy: 0.6407\n",
      "Epoch 13/50\n",
      "50000/50000 [==============================] - 79s 2ms/step - loss: 0.8488 - accuracy: 0.7033 - val_loss: 0.8416 - val_accuracy: 0.6992\n",
      "Epoch 14/50\n",
      "50000/50000 [==============================] - 82s 2ms/step - loss: 0.8243 - accuracy: 0.7128 - val_loss: 0.9969 - val_accuracy: 0.6567\n",
      "Epoch 15/50\n",
      "50000/50000 [==============================] - 80s 2ms/step - loss: 0.7898 - accuracy: 0.7237 - val_loss: 0.8393 - val_accuracy: 0.7101\n",
      "Epoch 16/50\n",
      "50000/50000 [==============================] - 80s 2ms/step - loss: 0.7618 - accuracy: 0.7335 - val_loss: 0.8790 - val_accuracy: 0.7002\n",
      "Epoch 17/50\n",
      "50000/50000 [==============================] - 80s 2ms/step - loss: 0.7458 - accuracy: 0.7399 - val_loss: 0.7886 - val_accuracy: 0.7264\n",
      "Epoch 18/50\n",
      "50000/50000 [==============================] - 80s 2ms/step - loss: 0.7188 - accuracy: 0.7500 - val_loss: 0.7464 - val_accuracy: 0.7454\n",
      "Epoch 19/50\n",
      "50000/50000 [==============================] - 80s 2ms/step - loss: 0.7028 - accuracy: 0.7557 - val_loss: 0.7508 - val_accuracy: 0.7436\n",
      "Epoch 20/50\n",
      "50000/50000 [==============================] - 80s 2ms/step - loss: 0.6824 - accuracy: 0.7621 - val_loss: 0.6763 - val_accuracy: 0.7686\n",
      "Epoch 21/50\n",
      "50000/50000 [==============================] - 80s 2ms/step - loss: 0.6683 - accuracy: 0.7660 - val_loss: 0.7358 - val_accuracy: 0.7462\n",
      "Epoch 22/50\n",
      "50000/50000 [==============================] - 80s 2ms/step - loss: 0.6540 - accuracy: 0.7716 - val_loss: 0.7960 - val_accuracy: 0.7365\n",
      "Epoch 23/50\n",
      "50000/50000 [==============================] - 6767s 135ms/step - loss: 0.6406 - accuracy: 0.7781 - val_loss: 0.7364 - val_accuracy: 0.7410\n",
      "Epoch 24/50\n",
      "50000/50000 [==============================] - 76s 2ms/step - loss: 0.6221 - accuracy: 0.7837 - val_loss: 0.6706 - val_accuracy: 0.7731\n",
      "Epoch 25/50\n",
      "50000/50000 [==============================] - 76s 2ms/step - loss: 0.6139 - accuracy: 0.7856 - val_loss: 0.6635 - val_accuracy: 0.7759\n",
      "Epoch 26/50\n",
      "50000/50000 [==============================] - 77s 2ms/step - loss: 0.6015 - accuracy: 0.7904 - val_loss: 0.7383 - val_accuracy: 0.7507\n",
      "Epoch 27/50\n",
      "50000/50000 [==============================] - 77s 2ms/step - loss: 0.5966 - accuracy: 0.7935 - val_loss: 0.7232 - val_accuracy: 0.7594\n",
      "Epoch 28/50\n",
      "50000/50000 [==============================] - 78s 2ms/step - loss: 0.5885 - accuracy: 0.7953 - val_loss: 0.6837 - val_accuracy: 0.7746\n",
      "Epoch 29/50\n",
      "50000/50000 [==============================] - 78s 2ms/step - loss: 0.5716 - accuracy: 0.8025 - val_loss: 0.6965 - val_accuracy: 0.7662\n",
      "Epoch 30/50\n",
      "50000/50000 [==============================] - 78s 2ms/step - loss: 0.5708 - accuracy: 0.8025 - val_loss: 0.7223 - val_accuracy: 0.7670\n",
      "Epoch 31/50\n",
      "50000/50000 [==============================] - 78s 2ms/step - loss: 0.5567 - accuracy: 0.8084 - val_loss: 0.6413 - val_accuracy: 0.7884\n",
      "Epoch 32/50\n",
      "50000/50000 [==============================] - 33398s 668ms/step - loss: 0.5503 - accuracy: 0.8100 - val_loss: 0.7608 - val_accuracy: 0.7612\n",
      "Epoch 33/50\n",
      "50000/50000 [==============================] - 103s 2ms/step - loss: 0.5401 - accuracy: 0.8133 - val_loss: 0.6806 - val_accuracy: 0.7769\n",
      "Epoch 34/50\n",
      "50000/50000 [==============================] - 122s 2ms/step - loss: 0.5427 - accuracy: 0.8134 - val_loss: 0.6790 - val_accuracy: 0.7796\n",
      "Epoch 35/50\n",
      "50000/50000 [==============================] - 124s 2ms/step - loss: 0.5305 - accuracy: 0.8165 - val_loss: 0.6590 - val_accuracy: 0.7893\n",
      "Epoch 36/50\n",
      "50000/50000 [==============================] - 122s 2ms/step - loss: 0.5295 - accuracy: 0.8174 - val_loss: 0.6346 - val_accuracy: 0.7923\n",
      "Epoch 37/50\n",
      "50000/50000 [==============================] - 122s 2ms/step - loss: 0.5256 - accuracy: 0.8177 - val_loss: 0.6463 - val_accuracy: 0.7986\n",
      "Epoch 38/50\n",
      "50000/50000 [==============================] - 122s 2ms/step - loss: 0.5234 - accuracy: 0.8204 - val_loss: 0.6660 - val_accuracy: 0.7829\n",
      "Epoch 39/50\n",
      "50000/50000 [==============================] - 110s 2ms/step - loss: 0.5149 - accuracy: 0.8220 - val_loss: 0.6294 - val_accuracy: 0.7972\n",
      "Epoch 40/50\n",
      "50000/50000 [==============================] - 105s 2ms/step - loss: 0.5078 - accuracy: 0.8248 - val_loss: 0.6481 - val_accuracy: 0.7917\n",
      "Epoch 41/50\n",
      "50000/50000 [==============================] - 109s 2ms/step - loss: 0.5025 - accuracy: 0.8254 - val_loss: 0.6792 - val_accuracy: 0.7938\n",
      "Epoch 42/50\n",
      "50000/50000 [==============================] - 112s 2ms/step - loss: 0.4972 - accuracy: 0.8286 - val_loss: 0.6331 - val_accuracy: 0.7966\n",
      "Epoch 43/50\n",
      "50000/50000 [==============================] - 114s 2ms/step - loss: 0.4991 - accuracy: 0.8285 - val_loss: 0.6637 - val_accuracy: 0.7880\n",
      "Epoch 44/50\n",
      "50000/50000 [==============================] - 110s 2ms/step - loss: 0.4941 - accuracy: 0.8297 - val_loss: 0.6849 - val_accuracy: 0.7810\n",
      "Epoch 45/50\n",
      "50000/50000 [==============================] - 106s 2ms/step - loss: 0.4893 - accuracy: 0.8315 - val_loss: 0.6525 - val_accuracy: 0.7906\n",
      "Epoch 46/50\n",
      "50000/50000 [==============================] - 105s 2ms/step - loss: 0.4890 - accuracy: 0.8317 - val_loss: 0.7057 - val_accuracy: 0.7829\n",
      "Epoch 47/50\n",
      "50000/50000 [==============================] - 105s 2ms/step - loss: 0.4909 - accuracy: 0.8323 - val_loss: 0.6767 - val_accuracy: 0.7878\n",
      "Epoch 48/50\n",
      "50000/50000 [==============================] - 108s 2ms/step - loss: 0.4845 - accuracy: 0.8315 - val_loss: 0.7111 - val_accuracy: 0.7820\n",
      "Epoch 49/50\n",
      "50000/50000 [==============================] - 105s 2ms/step - loss: 0.4816 - accuracy: 0.8363 - val_loss: 0.7385 - val_accuracy: 0.7808\n",
      "Epoch 50/50\n",
      "50000/50000 [==============================] - 105s 2ms/step - loss: 0.4808 - accuracy: 0.8348 - val_loss: 0.6686 - val_accuracy: 0.7934\n",
      "10000/10000 [==============================] - 6s 642us/step\n"
     ]
    },
    {
     "data": {
      "text/plain": [
       "[0.6685773134708405, 0.79339998960495]"
      ]
     },
     "execution_count": 10,
     "metadata": {},
     "output_type": "execute_result"
    }
   ],
   "source": [
    "model1 = createModel()\n",
    "batch_size = 256\n",
    "epochs = 50\n",
    "model1.compile(optimizer='rmsprop', loss='categorical_crossentropy', metrics=['accuracy'])\n",
    "\n",
    "model1.summary()\n",
    "\n",
    "history = model1.fit(train_data, train_labels_one_hot, batch_size=batch_size, epochs=epochs, verbose=1, \n",
    "                   validation_data=(test_data, test_labels_one_hot))\n",
    "model1.evaluate(test_data, test_labels_one_hot)"
   ]
  },
  {
   "cell_type": "code",
   "execution_count": 11,
   "metadata": {},
   "outputs": [
    {
     "data": {
      "text/plain": [
       "Text(0.5, 1.0, 'Loss Curves')"
      ]
     },
     "execution_count": 11,
     "metadata": {},
     "output_type": "execute_result"
    },
    {
     "data": {
      "image/png": "[encoded data removed]",
      "text/plain": [
       "<Figure size 576x432 with 1 Axes>"
      ]
     },
     "metadata": {
      "needs_background": "light"
     },
     "output_type": "display_data"
    }
   ],
   "source": [
    "plt.figure(figsize=[8,6])\n",
    "plt.plot(history.history['loss'],'r',linewidth=3.0)\n",
    "plt.plot(history.history['val_loss'],'b',linewidth=3.0)\n",
    "plt.legend(['Training loss', 'Validation Loss'],fontsize=18)\n",
    "plt.xlabel('Epochs ',fontsize=16)\n",
    "plt.ylabel('Loss',fontsize=16)\n",
    "plt.title('Loss Curves',fontsize=16)"
   ]
  },
  {
   "cell_type": "code",
   "execution_count": 16,
   "metadata": {},
   "outputs": [
    {
     "name": "stdout",
     "output_type": "stream",
     "text": [
      "dict_keys(['val_loss', 'val_accuracy', 'loss', 'accuracy'])\n"
     ]
    }
   ],
   "source": [
    "print(history.history.keys())"
   ]
  },
  {
   "cell_type": "code",
   "execution_count": 17,
   "metadata": {},
   "outputs": [
    {
     "data": {
      "text/plain": [
       "Text(0.5, 1.0, 'Accuracy Curves')"
      ]
     },
     "execution_count": 17,
     "metadata": {},
     "output_type": "execute_result"
    },
    {
     "data": {
      "image/png": "[encoded data removed]",
      "text/plain": [
       "<Figure size 576x432 with 1 Axes>"
      ]
     },
     "metadata": {
      "needs_background": "light"
     },
     "output_type": "display_data"
    }
   ],
   "source": [
    "plt.figure(figsize=[8,6])\n",
    "plt.plot(history.history['accuracy'],'r',linewidth=3.0)\n",
    "plt.plot(history.history['val_accuracy'],'b',linewidth=3.0)\n",
    "plt.legend(['Training Accuracy', 'Validation Accuracy'],fontsize=18)\n",
    "plt.xlabel('Epochs ',fontsize=16)\n",
    "plt.ylabel('Accuracy',fontsize=16)\n",
    "plt.title('Accuracy Curves',fontsize=16)"
   ]
  },
  {
   "cell_type": "code",
   "execution_count": 18,
   "metadata": {},
   "outputs": [
    {
     "name": "stdout",
     "output_type": "stream",
     "text": [
      "Downloading data from https://www.cs.toronto.edu/~kriz/cifar-100-python.tar.gz\n",
      "169009152/169001437 [==============================] - 338s 2us/step\n"
     ]
    }
   ],
   "source": [
    "from keras.datasets import cifar100\n",
    "(train_images100, train_labels100), (test_images100, test_labels100) = cifar100.load_data(label_mode= 'fine')"
   ]
  },
  {
   "cell_type": "code",
   "execution_count": 39,
   "metadata": {},
   "outputs": [
    {
     "data": {
      "text/plain": [
       "50000"
      ]
     },
     "execution_count": 39,
     "metadata": {},
     "output_type": "execute_result"
    }
   ],
   "source": [
    "len(train_images100)"
   ]
  },
  {
   "cell_type": "code",
   "execution_count": 59,
   "metadata": {},
   "outputs": [
    {
     "name": "stdout",
     "output_type": "stream",
     "text": [
      "<class 'numpy.ndarray'>\n"
     ]
    }
   ],
   "source": [
    "import copy\n",
    "\n",
    "train_imagesAll = list(copy.deepcopy(train_images))\n",
    "train_labelsAll = list(copy.deepcopy(train_labels))\n",
    "test_imagesAll = list(copy.deepcopy(test_images))\n",
    "test_labelsAll = list(copy.deepcopy(test_labels))\n",
    "print(type(train_labelsAll[0]))"
   ]
  },
  {
   "cell_type": "markdown",
   "metadata": {},
   "source": [
    "Необходимый суперкласс: fish - aquarium fish, flatfish, ray, shark, trout"
   ]
  },
  {
   "cell_type": "code",
   "execution_count": 60,
   "metadata": {},
   "outputs": [
    {
     "name": "stdout",
     "output_type": "stream",
     "text": [
      "[ 0  1  2  3  4  5  6  7  8  9 10 11 12 13 14]\n"
     ]
    }
   ],
   "source": [
    "for ind in range (len(train_images100)):\n",
    "    if train_labels100[ind] == 54 :\n",
    "        train_imagesAll.append(train_images100[ind])\n",
    "        train_labelsAll.append(np.array([10], dtype=np.uint8))\n",
    "    elif train_labels100[ind] == 62 :\n",
    "        train_imagesAll.append(train_images100[ind])\n",
    "        train_labelsAll.append(np.array([11], dtype=np.uint8))\n",
    "    elif train_labels100[ind] == 70 :\n",
    "        train_imagesAll.append(train_images100[ind])\n",
    "        train_labelsAll.append(np.array([12], dtype=np.uint8))\n",
    "    elif train_labels100[ind] == 82 :\n",
    "        train_imagesAll.append(train_images100[ind])\n",
    "        train_labelsAll.append(np.array([13], dtype=np.uint8))\n",
    "    elif train_labels100[ind] == 92 :\n",
    "        train_imagesAll.append(train_images100[ind])\n",
    "        train_labelsAll.append(np.array([14], dtype=np.uint8))\n",
    "\n",
    "for ind in range (len(test_images100)):\n",
    "    if test_labels100[ind] == 54 :\n",
    "        test_imagesAll.append(test_images100[ind])\n",
    "        test_labelsAll.append(np.array([10], dtype=np.uint8))\n",
    "    elif test_labels100[ind] == 62 :\n",
    "        test_imagesAll.append(test_images100[ind])\n",
    "        test_labelsAll.append(np.array([11], dtype=np.uint8))\n",
    "    elif test_labels100[ind] == 70 :\n",
    "        test_imagesAll.append(test_images100[ind])\n",
    "        test_labelsAll.append(np.array([12], dtype=np.uint8))\n",
    "    elif test_labels100[ind] == 82 :\n",
    "        test_imagesAll.append(test_images100[ind])\n",
    "        test_labelsAll.append(np.array([13], dtype=np.uint8))\n",
    "    elif test_labels100[ind] == 92 :\n",
    "        test_imagesAll.append(test_images100[ind])\n",
    "        test_labelsAll.append(np.array([14], dtype=np.uint8))\n",
    "print(np.unique(train_labelsAll))"
   ]
  },
  {
   "cell_type": "code",
   "execution_count": 61,
   "metadata": {},
   "outputs": [],
   "source": [
    "train_imagesAll = np.array(train_imagesAll)\n",
    "train_labelsAll = np.array(train_labelsAll)\n",
    "test_imagesAll = np.array(test_imagesAll)\n",
    "test_labelsAll = np.array(test_labelsAll)"
   ]
  },
  {
   "cell_type": "code",
   "execution_count": 62,
   "metadata": {},
   "outputs": [
    {
     "name": "stdout",
     "output_type": "stream",
     "text": [
      "Training data shape :  (52500, 32, 32, 3) (52500, 1)\n",
      "Testing data shape :  (10500, 32, 32, 3) (10500, 1)\n",
      "Total number of outputs :  15\n",
      "Output classes :  [ 0  1  2  3  4  5  6  7  8  9 10 11 12 13 14]\n"
     ]
    }
   ],
   "source": [
    "print('Training data shape : ', train_imagesAll.shape, train_labelsAll.shape)\n",
    "\n",
    "print('Testing data shape : ', test_imagesAll.shape, test_labelsAll.shape)\n",
    "\n",
    "# Find the unique numbers from the train labels\n",
    "classes = np.unique(train_labelsAll)\n",
    "nClasses = len(classes)\n",
    "print('Total number of outputs : ', nClasses)\n",
    "print('Output classes : ', classes)"
   ]
  },
  {
   "cell_type": "code",
   "execution_count": 63,
   "metadata": {},
   "outputs": [],
   "source": [
    "nRows,nCols,nDims = train_imagesAll.shape[1:]\n",
    "train_data = train_imagesAll.reshape(train_imagesAll.shape[0], nRows, nCols, nDims)\n",
    "test_data = test_imagesAll.reshape(test_imagesAll.shape[0], nRows, nCols, nDims)\n",
    "input_shape = (nRows, nCols, nDims)\n",
    "\n",
    "# Change to float datatype\n",
    "train_data = train_data.astype('float32')\n",
    "test_data = test_data.astype('float32')\n",
    "\n",
    "# Scale the data to lie between 0 to 1\n",
    "train_data /= 255\n",
    "test_data /= 255\n",
    "\n",
    "# Change the labels from integer to categorical data\n",
    "train_labels_one_hot = to_categorical(train_labelsAll)\n",
    "test_labels_one_hot = to_categorical(test_labelsAll)"
   ]
  },
  {
   "cell_type": "code",
   "execution_count": 64,
   "metadata": {},
   "outputs": [
    {
     "name": "stdout",
     "output_type": "stream",
     "text": [
      "Original label 0 :  [6]\n",
      "After conversion to categorical ( one-hot ) :  [0. 0. 0. 0. 0. 0. 1. 0. 0. 0. 0. 0. 0. 0. 0.]\n"
     ]
    }
   ],
   "source": [
    "print('Original label 0 : ', train_labelsAll[0])\n",
    "print('After conversion to categorical ( one-hot ) : ', train_labels_one_hot[0])"
   ]
  },
  {
   "cell_type": "code",
   "execution_count": 65,
   "metadata": {},
   "outputs": [],
   "source": [
    "def createModel():\n",
    "    model = Sequential()\n",
    "    # The first two layers with 32 filters of window size 3x3\n",
    "    model.add(Conv2D(32, (3, 3), padding='same', activation='relu', input_shape=input_shape))\n",
    "    model.add(Conv2D(32, (3, 3), activation='relu'))\n",
    "    model.add(MaxPooling2D(pool_size=(2, 2)))\n",
    "    model.add(Dropout(0.25))\n",
    "\n",
    "    model.add(Conv2D(64, (3, 3), padding='same', activation='relu'))\n",
    "    model.add(Conv2D(64, (3, 3), activation='relu'))\n",
    "    model.add(MaxPooling2D(pool_size=(2, 2)))\n",
    "    model.add(Dropout(0.25))\n",
    "\n",
    "    model.add(Conv2D(64, (3, 3), padding='same', activation='relu'))\n",
    "    model.add(Conv2D(64, (3, 3), activation='relu'))\n",
    "    model.add(MaxPooling2D(pool_size=(2, 2)))\n",
    "    model.add(Dropout(0.25))\n",
    "\n",
    "    model.add(Flatten())\n",
    "    model.add(Dense(512, activation='relu'))\n",
    "    model.add(Dropout(0.5))\n",
    "    model.add(Dense(nClasses, activation='softmax'))\n",
    "    \n",
    "    return model"
   ]
  },
  {
   "cell_type": "code",
   "execution_count": 66,
   "metadata": {},
   "outputs": [
    {
     "name": "stdout",
     "output_type": "stream",
     "text": [
      "Model: \"sequential_2\"\n",
      "_________________________________________________________________\n",
      "Layer (type)                 Output Shape              Param #   \n",
      "=================================================================\n",
      "conv2d_7 (Conv2D)            (None, 32, 32, 32)        896       \n",
      "_________________________________________________________________\n",
      "conv2d_8 (Conv2D)            (None, 30, 30, 32)        9248      \n",
      "_________________________________________________________________\n",
      "max_pooling2d_4 (MaxPooling2 (None, 15, 15, 32)        0         \n",
      "_________________________________________________________________\n",
      "dropout_5 (Dropout)          (None, 15, 15, 32)        0         \n",
      "_________________________________________________________________\n",
      "conv2d_9 (Conv2D)            (None, 15, 15, 64)        18496     \n",
      "_________________________________________________________________\n",
      "conv2d_10 (Conv2D)           (None, 13, 13, 64)        36928     \n",
      "_________________________________________________________________\n",
      "max_pooling2d_5 (MaxPooling2 (None, 6, 6, 64)          0         \n",
      "_________________________________________________________________\n",
      "dropout_6 (Dropout)          (None, 6, 6, 64)          0         \n",
      "_________________________________________________________________\n",
      "conv2d_11 (Conv2D)           (None, 6, 6, 64)          36928     \n",
      "_________________________________________________________________\n",
      "conv2d_12 (Conv2D)           (None, 4, 4, 64)          36928     \n",
      "_________________________________________________________________\n",
      "max_pooling2d_6 (MaxPooling2 (None, 2, 2, 64)          0         \n",
      "_________________________________________________________________\n",
      "dropout_7 (Dropout)          (None, 2, 2, 64)          0         \n",
      "_________________________________________________________________\n",
      "flatten_2 (Flatten)          (None, 256)               0         \n",
      "_________________________________________________________________\n",
      "dense_3 (Dense)              (None, 512)               131584    \n",
      "_________________________________________________________________\n",
      "dropout_8 (Dropout)          (None, 512)               0         \n",
      "_________________________________________________________________\n",
      "dense_4 (Dense)              (None, 15)                7695      \n",
      "=================================================================\n",
      "Total params: 278,703\n",
      "Trainable params: 278,703\n",
      "Non-trainable params: 0\n",
      "_________________________________________________________________\n",
      "Train on 52500 samples, validate on 10500 samples\n",
      "Epoch 1/50\n",
      "52500/52500 [==============================] - 84s 2ms/step - loss: 2.2104 - accuracy: 0.2187 - val_loss: 1.8573 - val_accuracy: 0.3461\n",
      "Epoch 2/50\n",
      "52500/52500 [==============================] - 86s 2ms/step - loss: 1.8240 - accuracy: 0.3524 - val_loss: 1.9412 - val_accuracy: 0.3184\n",
      "Epoch 3/50\n",
      "52500/52500 [==============================] - 84s 2ms/step - loss: 1.6404 - accuracy: 0.4193 - val_loss: 1.7691 - val_accuracy: 0.4065\n",
      "Epoch 4/50\n",
      "52500/52500 [==============================] - 84s 2ms/step - loss: 1.5019 - accuracy: 0.4710 - val_loss: 1.5445 - val_accuracy: 0.4577\n",
      "Epoch 5/50\n",
      "52500/52500 [==============================] - 85s 2ms/step - loss: 1.3926 - accuracy: 0.5134 - val_loss: 1.3538 - val_accuracy: 0.5264\n",
      "Epoch 6/50\n",
      "52500/52500 [==============================] - 84s 2ms/step - loss: 1.3111 - accuracy: 0.5408 - val_loss: 1.4571 - val_accuracy: 0.4977\n",
      "Epoch 7/50\n",
      "52500/52500 [==============================] - 84s 2ms/step - loss: 1.2355 - accuracy: 0.5709 - val_loss: 1.6050 - val_accuracy: 0.4576\n",
      "Epoch 8/50\n",
      "52500/52500 [==============================] - 85s 2ms/step - loss: 1.1847 - accuracy: 0.5913 - val_loss: 1.3570 - val_accuracy: 0.5243\n",
      "Epoch 9/50\n",
      "52500/52500 [==============================] - 84s 2ms/step - loss: 1.1259 - accuracy: 0.6115 - val_loss: 1.4396 - val_accuracy: 0.5273\n",
      "Epoch 10/50\n",
      "52500/52500 [==============================] - 86s 2ms/step - loss: 1.0775 - accuracy: 0.6272 - val_loss: 1.0678 - val_accuracy: 0.6366\n",
      "Epoch 11/50\n",
      "52500/52500 [==============================] - 88s 2ms/step - loss: 1.0331 - accuracy: 0.6437 - val_loss: 1.1043 - val_accuracy: 0.6227\n",
      "Epoch 12/50\n",
      "52500/52500 [==============================] - 88s 2ms/step - loss: 0.9952 - accuracy: 0.6567 - val_loss: 1.1643 - val_accuracy: 0.6144\n",
      "Epoch 13/50\n",
      "52500/52500 [==============================] - 85s 2ms/step - loss: 0.9618 - accuracy: 0.6675 - val_loss: 1.0931 - val_accuracy: 0.6282\n",
      "Epoch 14/50\n",
      "52500/52500 [==============================] - 85s 2ms/step - loss: 0.9294 - accuracy: 0.6820 - val_loss: 1.0324 - val_accuracy: 0.6594\n",
      "Epoch 15/50\n",
      "52500/52500 [==============================] - 85s 2ms/step - loss: 0.9028 - accuracy: 0.6881 - val_loss: 0.9821 - val_accuracy: 0.6707\n",
      "Epoch 16/50\n",
      "52500/52500 [==============================] - 87s 2ms/step - loss: 0.8761 - accuracy: 0.7018 - val_loss: 1.1942 - val_accuracy: 0.6033\n",
      "Epoch 17/50\n",
      "52500/52500 [==============================] - 85s 2ms/step - loss: 0.8550 - accuracy: 0.7067 - val_loss: 1.1090 - val_accuracy: 0.6240\n",
      "Epoch 18/50\n",
      "52500/52500 [==============================] - 85s 2ms/step - loss: 0.8326 - accuracy: 0.7162 - val_loss: 0.9991 - val_accuracy: 0.6674\n",
      "Epoch 19/50\n",
      "52500/52500 [==============================] - 84s 2ms/step - loss: 0.8061 - accuracy: 0.7255 - val_loss: 0.9704 - val_accuracy: 0.6774\n",
      "Epoch 20/50\n",
      "52500/52500 [==============================] - 126s 2ms/step - loss: 0.7884 - accuracy: 0.7306 - val_loss: 0.9770 - val_accuracy: 0.6642\n",
      "Epoch 21/50\n",
      "52500/52500 [==============================] - 91s 2ms/step - loss: 0.7728 - accuracy: 0.7369 - val_loss: 1.0300 - val_accuracy: 0.6650\n",
      "Epoch 22/50\n",
      "52500/52500 [==============================] - 86s 2ms/step - loss: 0.7511 - accuracy: 0.7433 - val_loss: 0.9437 - val_accuracy: 0.6806\n",
      "Epoch 23/50\n",
      "52500/52500 [==============================] - 89s 2ms/step - loss: 0.7478 - accuracy: 0.7471 - val_loss: 0.8261 - val_accuracy: 0.7257\n",
      "Epoch 24/50\n",
      "52500/52500 [==============================] - 89s 2ms/step - loss: 0.7223 - accuracy: 0.7540 - val_loss: 0.9839 - val_accuracy: 0.6863\n",
      "Epoch 25/50\n",
      "52500/52500 [==============================] - 89s 2ms/step - loss: 0.7078 - accuracy: 0.7577 - val_loss: 0.7654 - val_accuracy: 0.7476\n",
      "Epoch 26/50\n",
      "52500/52500 [==============================] - 92s 2ms/step - loss: 0.6995 - accuracy: 0.7595 - val_loss: 1.1526 - val_accuracy: 0.6408\n",
      "Epoch 27/50\n",
      "52500/52500 [==============================] - 88s 2ms/step - loss: 0.6912 - accuracy: 0.7640 - val_loss: 0.8398 - val_accuracy: 0.7228\n",
      "Epoch 28/50\n",
      "52500/52500 [==============================] - 86s 2ms/step - loss: 0.6835 - accuracy: 0.7648 - val_loss: 0.8656 - val_accuracy: 0.7173\n",
      "Epoch 29/50\n",
      "52500/52500 [==============================] - 94s 2ms/step - loss: 0.6670 - accuracy: 0.7724 - val_loss: 0.8281 - val_accuracy: 0.7295\n",
      "Epoch 30/50\n",
      "52500/52500 [==============================] - 91s 2ms/step - loss: 0.6661 - accuracy: 0.7723 - val_loss: 1.3295 - val_accuracy: 0.6540\n",
      "Epoch 31/50\n",
      "52500/52500 [==============================] - 89s 2ms/step - loss: 0.6538 - accuracy: 0.7800 - val_loss: 0.8683 - val_accuracy: 0.7209\n",
      "Epoch 32/50\n",
      "52500/52500 [==============================] - 86s 2ms/step - loss: 0.6407 - accuracy: 0.7812 - val_loss: 0.7864 - val_accuracy: 0.7428\n",
      "Epoch 33/50\n",
      "52500/52500 [==============================] - 88s 2ms/step - loss: 0.6333 - accuracy: 0.7825 - val_loss: 1.1095 - val_accuracy: 0.7050\n",
      "Epoch 34/50\n",
      "52500/52500 [==============================] - 89s 2ms/step - loss: 0.6388 - accuracy: 0.7832 - val_loss: 0.8870 - val_accuracy: 0.7161\n",
      "Epoch 35/50\n",
      "52500/52500 [==============================] - 89s 2ms/step - loss: 0.6255 - accuracy: 0.7859 - val_loss: 0.7808 - val_accuracy: 0.7475\n",
      "Epoch 36/50\n",
      "52500/52500 [==============================] - 84s 2ms/step - loss: 0.6211 - accuracy: 0.7894 - val_loss: 0.9205 - val_accuracy: 0.7160\n",
      "Epoch 37/50\n",
      "52500/52500 [==============================] - 88s 2ms/step - loss: 0.6153 - accuracy: 0.7915 - val_loss: 0.9318 - val_accuracy: 0.7114\n",
      "Epoch 38/50\n",
      "52500/52500 [==============================] - 91s 2ms/step - loss: 0.6123 - accuracy: 0.7906 - val_loss: 0.7639 - val_accuracy: 0.7586\n",
      "Epoch 39/50\n",
      "52500/52500 [==============================] - 85s 2ms/step - loss: 0.6019 - accuracy: 0.7954 - val_loss: 0.7730 - val_accuracy: 0.7608\n",
      "Epoch 40/50\n",
      "52500/52500 [==============================] - 94s 2ms/step - loss: 0.6062 - accuracy: 0.7935 - val_loss: 0.8001 - val_accuracy: 0.7440\n",
      "Epoch 41/50\n",
      "52500/52500 [==============================] - 93s 2ms/step - loss: 0.6001 - accuracy: 0.7972 - val_loss: 0.8532 - val_accuracy: 0.7374\n",
      "Epoch 42/50\n",
      "52500/52500 [==============================] - 93s 2ms/step - loss: 0.5889 - accuracy: 0.8003 - val_loss: 0.7720 - val_accuracy: 0.7500\n",
      "Epoch 43/50\n",
      "52500/52500 [==============================] - 97s 2ms/step - loss: 0.5914 - accuracy: 0.7992 - val_loss: 0.7618 - val_accuracy: 0.7531\n",
      "Epoch 44/50\n",
      "52500/52500 [==============================] - 90s 2ms/step - loss: 0.5843 - accuracy: 0.8012 - val_loss: 0.7887 - val_accuracy: 0.7457\n",
      "Epoch 45/50\n",
      "52500/52500 [==============================] - 89s 2ms/step - loss: 0.5851 - accuracy: 0.8024 - val_loss: 0.9378 - val_accuracy: 0.7156\n",
      "Epoch 46/50\n",
      "52500/52500 [==============================] - 89s 2ms/step - loss: 0.5734 - accuracy: 0.8044 - val_loss: 0.8833 - val_accuracy: 0.7245\n",
      "Epoch 47/50\n",
      "52500/52500 [==============================] - 88s 2ms/step - loss: 0.5784 - accuracy: 0.8037 - val_loss: 0.8281 - val_accuracy: 0.7416\n",
      "Epoch 48/50\n",
      "52500/52500 [==============================] - 88s 2ms/step - loss: 0.5781 - accuracy: 0.8050 - val_loss: 0.7958 - val_accuracy: 0.7452\n",
      "Epoch 49/50\n",
      "52500/52500 [==============================] - 93s 2ms/step - loss: 0.5732 - accuracy: 0.8062 - val_loss: 0.7854 - val_accuracy: 0.7661\n",
      "Epoch 50/50\n",
      "52500/52500 [==============================] - 89s 2ms/step - loss: 0.5681 - accuracy: 0.8070 - val_loss: 0.8357 - val_accuracy: 0.7358\n",
      "10500/10500 [==============================] - 5s 477us/step\n"
     ]
    },
    {
     "data": {
      "text/plain": [
       "[0.8356500850859142, 0.7358095049858093]"
      ]
     },
     "execution_count": 66,
     "metadata": {},
     "output_type": "execute_result"
    }
   ],
   "source": [
    "model1 = createModel()\n",
    "batch_size = 256\n",
    "epochs = 50\n",
    "model1.compile(optimizer='rmsprop', loss='categorical_crossentropy', metrics=['accuracy'])\n",
    "\n",
    "model1.summary()\n",
    "\n",
    "history = model1.fit(train_data, train_labels_one_hot, batch_size=batch_size, epochs=epochs, verbose=1, \n",
    "                   validation_data=(test_data, test_labels_one_hot))\n",
    "model1.evaluate(test_data, test_labels_one_hot)"
   ]
  },
  {
   "cell_type": "code",
   "execution_count": 67,
   "metadata": {},
   "outputs": [
    {
     "data": {
      "text/plain": [
       "Text(0.5, 1.0, 'Loss Curves')"
      ]
     },
     "execution_count": 67,
     "metadata": {},
     "output_type": "execute_result"
    },
    {
     "data": {
      "image/png": "[encoded data removed]",
      "text/plain": [
       "<Figure size 576x432 with 1 Axes>"
      ]
     },
     "metadata": {
      "needs_background": "light"
     },
     "output_type": "display_data"
    }
   ],
   "source": [
    "plt.figure(figsize=[8,6])\n",
    "plt.plot(history.history['loss'],'r',linewidth=3.0)\n",
    "plt.plot(history.history['val_loss'],'b',linewidth=3.0)\n",
    "plt.legend(['Training loss', 'Validation Loss'],fontsize=18)\n",
    "plt.xlabel('Epochs ',fontsize=16)\n",
    "plt.ylabel('Loss',fontsize=16)\n",
    "plt.title('Loss Curves',fontsize=16)"
   ]
  },
  {
   "cell_type": "code",
   "execution_count": 68,
   "metadata": {},
   "outputs": [
    {
     "name": "stdout",
     "output_type": "stream",
     "text": [
      "dict_keys(['val_loss', 'val_accuracy', 'loss', 'accuracy'])\n"
     ]
    }
   ],
   "source": [
    "print(history.history.keys())"
   ]
  },
  {
   "cell_type": "code",
   "execution_count": 69,
   "metadata": {},
   "outputs": [
    {
     "data": {
      "text/plain": [
       "Text(0.5, 1.0, 'Accuracy Curves')"
      ]
     },
     "execution_count": 69,
     "metadata": {},
     "output_type": "execute_result"
    },
    {
     "data": {
      "image/png": "[encoded data removed]",
      "text/plain": [
       "<Figure size 576x432 with 1 Axes>"
      ]
     },
     "metadata": {
      "needs_background": "light"
     },
     "output_type": "display_data"
    }
   ],
   "source": [
    "plt.figure(figsize=[8,6])\n",
    "plt.plot(history.history['accuracy'],'r',linewidth=3.0)\n",
    "plt.plot(history.history['val_accuracy'],'b',linewidth=3.0)\n",
    "plt.legend(['Training Accuracy', 'Validation Accuracy'],fontsize=18)\n",
    "plt.xlabel('Epochs ',fontsize=16)\n",
    "plt.ylabel('Accuracy',fontsize=16)\n",
    "plt.title('Accuracy Curves',fontsize=16)"
   ]
  },
  {
   "cell_type": "code",
   "execution_count": 76,
   "metadata": {},
   "outputs": [
    {
     "name": "stdout",
     "output_type": "stream",
     "text": [
      "[ 3  8  8 ...  1 10 12]\n",
      "\n",
      "[ 3  8  8 ... 11 10 12]\n"
     ]
    }
   ],
   "source": [
    "from sklearn.metrics import classification_report\n",
    "\n",
    "y_pred = model1.predict(test_data)\n",
    "print(np.argmax(y_pred, axis = 1))\n",
    "print()\n",
    "print(np.argmax(test_labels_one_hot, axis = 1))\n",
    "\n",
    "#print(classification_report(y_pred, test_labels_one_hot))"
   ]
  },
  {
   "cell_type": "code",
   "execution_count": 81,
   "metadata": {},
   "outputs": [
    {
     "name": "stdout",
     "output_type": "stream",
     "text": [
      "0.705121283284425\n",
      "0.6920666666666668\n",
      "0.6823895295191001\n",
      "[[756   6  26  12  23   0  17   0 137  14   5   3   0   0   1]\n",
      " [ 17 870   2   2   7   1  17   1  54  26   0   0   2   0   1]\n",
      " [ 65   0 621  73  94  14  74   5  25   3  12   3   2   5   4]\n",
      " [ 20   2  46 687  73  29  84   3  31   7  14   1   1   1   1]\n",
      " [ 13   1  35  43 823   6  50   9  16   0   4   0   0   0   0]\n",
      " [ 10   1  38 316  67 470  47   8  14   4  20   1   1   0   3]\n",
      " [  4   0  18  54  36   1 867   1  11   0   4   2   1   0   1]\n",
      " [ 25   2  24  85 174  24  13 620   7   7  16   0   1   1   1]\n",
      " [ 13   8   3  10   7   0   5   0 947   5   2   0   0   0   0]\n",
      " [ 27  66   7  21   9   1  15   2  73 770   1   1   2   2   3]\n",
      " [  1   1   0   3   0   0   6   0   1   0  80   2   2   0   4]\n",
      " [  0   1   1   1   0   3   3   0   1   1   6  58   6   3  16]\n",
      " [  2   2   0   2   1   0   5   0   1   0  17  10  54   0   6]\n",
      " [  1   0   0   3   3   0   7   0   1   0   3   5   0  75   2]\n",
      " [  1   1   4   0   3   0   5   0   0   0  27  11  19   1  28]]\n",
      "              precision    recall  f1-score   support\n",
      "\n",
      "           0      0.792     0.756     0.773      1000\n",
      "           1      0.905     0.870     0.887      1000\n",
      "           2      0.753     0.621     0.681      1000\n",
      "           3      0.524     0.687     0.594      1000\n",
      "           4      0.623     0.823     0.709      1000\n",
      "           5      0.856     0.470     0.607      1000\n",
      "           6      0.714     0.867     0.783      1000\n",
      "           7      0.955     0.620     0.752      1000\n",
      "           8      0.718     0.947     0.817      1000\n",
      "           9      0.920     0.770     0.838      1000\n",
      "          10      0.379     0.800     0.514       100\n",
      "          11      0.598     0.580     0.589       100\n",
      "          12      0.593     0.540     0.565       100\n",
      "          13      0.852     0.750     0.798       100\n",
      "          14      0.394     0.280     0.327       100\n",
      "\n",
      "    accuracy                          0.736     10500\n",
      "   macro avg      0.705     0.692     0.682     10500\n",
      "weighted avg      0.766     0.736     0.735     10500\n",
      "\n"
     ]
    }
   ],
   "source": [
    "from sklearn.metrics import f1_score, precision_score, recall_score, confusion_matrix\n",
    "from sklearn import metrics\n",
    "y_pred1 = model1.predict(test_data)\n",
    "y_pred = np.argmax(y_pred1, axis=1)\n",
    "#print(y_pred)\n",
    "#rint(np.argmax(test_labels_one_hot, axis=1))\n",
    "y_true = np.argmax(test_labels_one_hot, axis=1)\n",
    "# Print f1, precision, and recall scores\n",
    "print(precision_score(y_true, y_pred, average=\"macro\"))\n",
    "print(recall_score(y_true, y_pred, average=\"macro\"))\n",
    "print(f1_score(y_true, y_pred, average=\"macro\"))\n",
    "\n",
    "print(metrics.confusion_matrix(y_true, y_pred))\n",
    "\n",
    "# Print the precision and recall, among other metrics\n",
    "print(metrics.classification_report(y_true, y_pred, digits=3))"
   ]
  }
 ],
 "metadata": {
  "kernelspec": {
   "display_name": "Python 3",
   "language": "python",
   "name": "python3"
  },
  "language_info": {
   "codemirror_mode": {
    "name": "ipython",
    "version": 3
   },
   "file_extension": ".py",
   "mimetype": "text/x-python",
   "name": "python",
   "nbconvert_exporter": "python",
   "pygments_lexer": "ipython3",
   "version": "3.7.9"
  }
 },
 "nbformat": 4,
 "nbformat_minor": 2
}
